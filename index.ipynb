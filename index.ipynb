{
 "cells": [
  {
   "attachments": {},
   "cell_type": "markdown",
   "metadata": {},
   "source": [
    "# Website A/B Testing - Lab\n",
    "\n",
    "## Introduction\n",
    "\n",
    "In this lab, you'll get another chance to practice your skills at conducting a full A/B test analysis. It will also be a chance to practice your data exploration and processing skills! The scenario you'll be investigating is data collected from the homepage of a music app page for audacity.\n",
    "\n",
    "## Objectives\n",
    "\n",
    "You will be able to:\n",
    "* Analyze the data from a website A/B test to draw relevant conclusions\n",
    "* Explore and analyze web action data"
   ]
  },
  {
   "attachments": {},
   "cell_type": "markdown",
   "metadata": {},
   "source": [
    "## Exploratory Analysis\n",
    "\n",
    "Start by loading in the dataset stored in the file 'homepage_actions.csv'. Then conduct an exploratory analysis to get familiar with the data."
   ]
  },
  {
   "attachments": {},
   "cell_type": "markdown",
   "metadata": {},
   "source": [
    "> Hints:\n",
    "    * Start investigating the id column:\n",
    "        * How many viewers also clicked?\n",
    "        * Are there any anomalies with the data; did anyone click who didn't view?\n",
    "        * Is there any overlap between the control and experiment groups? \n",
    "            * If so, how do you plan to account for this in your experimental design?"
   ]
  },
  {
   "cell_type": "code",
   "execution_count": 4,
   "metadata": {},
   "outputs": [
    {
     "name": "stdout",
     "output_type": "stream",
     "text": [
      "Dataset shape: (8188, 4)\n",
      "\n",
      "Group counts:\n",
      "group\n",
      "control       4264\n",
      "experiment    3924\n",
      "Name: count, dtype: int64\n",
      "\n",
      "Action counts:\n",
      "action\n",
      "view     6328\n",
      "click    1860\n",
      "Name: count, dtype: int64\n",
      "\n",
      "Number of viewers: 6328\n",
      "Number of clickers: 1860\n",
      "Number of viewers who also clicked: 1860\n",
      "Number of clickers who didn't view: 0\n",
      "\n",
      "Overlap between control and experiment groups: 0\n"
     ]
    }
   ],
   "source": [
    "# Your code here - Exploratory Analysis\n",
    "import pandas as pd\n",
    "import numpy as np\n",
    "from scipy import stats\n",
    "from statsmodels.stats.proportion import proportions_ztest\n",
    "\n",
    "df = pd.read_csv('homepage_actions.csv')\n",
    "df.head()\n",
    "\n",
    "# Check basic info about the dataset\n",
    "print(\"Dataset shape:\", df.shape)\n",
    "print(\"\\nGroup counts:\")\n",
    "print(df['group'].value_counts())\n",
    "print(\"\\nAction counts:\")\n",
    "print(df['action'].value_counts())\n",
    "\n",
    "# Check if anyone clicked without viewing\n",
    "viewers = set(df[df['action'] == 'view']['id'])\n",
    "clickers = set(df[df['action'] == 'click']['id'])\n",
    "\n",
    "print(f\"\\nNumber of viewers: {len(viewers)}\")\n",
    "print(f\"Number of clickers: {len(clickers)}\")\n",
    "print(f\"Number of viewers who also clicked: {len(viewers.intersection(clickers))}\")\n",
    "print(f\"Number of clickers who didn't view: {len(clickers - viewers)}\")\n",
    "\n",
    "# Check for overlap between control and experiment groups\n",
    "control_ids = set(df[df['group'] == 'control']['id'])\n",
    "experiment_ids = set(df[df['group'] == 'experiment']['id'])\n",
    "\n",
    "print(f\"\\nOverlap between control and experiment groups: {len(control_ids.intersection(experiment_ids))}\")"
   ]
  },
  {
   "attachments": {},
   "cell_type": "markdown",
   "metadata": {},
   "source": [
    "## Conduct a Statistical Test\n",
    "\n",
    "Conduct a statistical test to determine whether the experimental homepage was more effective than that of the control group."
   ]
  },
  {
   "cell_type": "code",
   "execution_count": 5,
   "metadata": {},
   "outputs": [
    {
     "name": "stdout",
     "output_type": "stream",
     "text": [
      "Control CTR: 0.2797\n",
      "Experiment CTR: 0.3097\n",
      "\n",
      "Z-statistic: 2.6186\n",
      "P-value: 0.0044\n",
      "\n",
      "Chi-square p-value: 0.0096\n"
     ]
    }
   ],
   "source": [
    "#Your code here\n",
    "# First, create a dataframe with one row per user\n",
    "user_data = df.groupby(['id', 'group'])['action'].apply(lambda x: 1 if 'click' in x.values else 0).reset_index()\n",
    "user_data.columns = ['id', 'group', 'clicked']\n",
    "\n",
    "# Separate control and experiment groups\n",
    "control_clicks = user_data[user_data['group'] == 'control']['clicked']\n",
    "experiment_clicks = user_data[user_data['group'] == 'experiment']['clicked']\n",
    "\n",
    "# Calculate click-through rates\n",
    "control_ctr = control_clicks.mean()\n",
    "experiment_ctr = experiment_clicks.mean()\n",
    "\n",
    "print(f\"Control CTR: {control_ctr:.4f}\")\n",
    "print(f\"Experiment CTR: {experiment_ctr:.4f}\")\n",
    "\n",
    "# Perform z-test for proportions\n",
    "count = [experiment_clicks.sum(), control_clicks.sum()]\n",
    "nobs = [len(experiment_clicks), len(control_clicks)]\n",
    "z_stat, p_value = proportions_ztest(count, nobs, alternative='larger')\n",
    "\n",
    "print(f\"\\nZ-statistic: {z_stat:.4f}\")\n",
    "print(f\"P-value: {p_value:.4f}\")\n",
    "\n",
    "# Also perform chi-square test for comparison\n",
    "contingency_table = pd.crosstab(user_data['group'], user_data['clicked'])\n",
    "chi2, p_chi, dof, expected = stats.chi2_contingency(contingency_table)\n",
    "print(f\"\\nChi-square p-value: {p_chi:.4f}\")"
   ]
  },
  {
   "attachments": {},
   "cell_type": "markdown",
   "metadata": {},
   "source": [
    "## Verifying Results\n",
    "\n",
    "One sensible formulation of the data to answer the hypothesis test above would be to create a binary variable representing each individual in the experiment and control group. This binary variable would represent whether or not that individual clicked on the homepage; 1 for they did and 0 if they did not. \n",
    "\n",
    "The variance for the number of successes in a sample of a binomial variable with n observations is given by:\n",
    "\n",
    "## $n\\bullet p (1-p)$\n",
    "\n",
    "Given this, perform 3 steps to verify the results of your statistical test:\n",
    "1. Calculate the expected number of clicks for the experiment group, if it had the same click-through rate as that of the control group. \n",
    "2. Calculate the number of standard deviations that the actual number of clicks was from this estimate. \n",
    "3. Finally, calculate a p-value using the normal distribution based on this z-score."
   ]
  },
  {
   "attachments": {},
   "cell_type": "markdown",
   "metadata": {},
   "source": [
    "### Step 1:\n",
    "Calculate the expected number of clicks for the experiment group, if it had the same click-through rate as that of the control group. "
   ]
  },
  {
   "cell_type": "code",
   "execution_count": 8,
   "metadata": {},
   "outputs": [
    {
     "name": "stdout",
     "output_type": "stream",
     "text": [
      "Expected clicks for experiment group: 838.02\n",
      "Actual clicks for experiment group: 928\n"
     ]
    }
   ],
   "source": [
    "#Your code here\n",
    "n_experiment = len(experiment_clicks)\n",
    "expected_clicks = n_experiment * control_ctr\n",
    "actual_clicks = experiment_clicks.sum()\n",
    "\n",
    "print(f\"Expected clicks for experiment group: {expected_clicks:.2f}\")\n",
    "print(f\"Actual clicks for experiment group: {actual_clicks}\")"
   ]
  },
  {
   "attachments": {},
   "cell_type": "markdown",
   "metadata": {},
   "source": [
    "### Step 2:\n",
    "Calculate the number of standard deviations that the actual number of clicks was from this estimate."
   ]
  },
  {
   "cell_type": "code",
   "execution_count": 9,
   "metadata": {},
   "outputs": [
    {
     "name": "stdout",
     "output_type": "stream",
     "text": [
      "\n",
      "Standard deviation: 24.5685\n",
      "Z-score: 3.6625\n"
     ]
    }
   ],
   "source": [
    "#Your code here\n",
    "variance = n_experiment * control_ctr * (1 - control_ctr)\n",
    "std_dev = np.sqrt(variance)\n",
    "z_score = (actual_clicks - expected_clicks) / std_dev\n",
    "\n",
    "print(f\"\\nStandard deviation: {std_dev:.4f}\")\n",
    "print(f\"Z-score: {z_score:.4f}\")"
   ]
  },
  {
   "attachments": {},
   "cell_type": "markdown",
   "metadata": {},
   "source": [
    "### Step 3: \n",
    "Finally, calculate a p-value using the normal distribution based on this z-score."
   ]
  },
  {
   "cell_type": "code",
   "execution_count": 11,
   "metadata": {},
   "outputs": [
    {
     "name": "stdout",
     "output_type": "stream",
     "text": [
      "P-value (manual calculation): 0.0001\n",
      "\n",
      "Does this result roughly match that of the previous statistical test?\n",
      "Original p-value: 0.0044\n",
      "Manual p-value: 0.0001\n",
      "Difference: 0.004290\n",
      "Yes, the results match closely, confirming our statistical test.\n"
     ]
    }
   ],
   "source": [
    "#Your code here\n",
    "p_value_manual = 1 - stats.norm.cdf(z_score)\n",
    "print(f\"P-value (manual calculation): {p_value_manual:.4f}\")\n",
    "\n",
    "print(\"\\nDoes this result roughly match that of the previous statistical test?\")\n",
    "print(f\"Original p-value: {p_value:.4f}\")\n",
    "print(f\"Manual p-value: {p_value_manual:.4f}\")\n",
    "print(f\"Difference: {abs(p_value - p_value_manual):.6f}\")\n",
    "\n",
    "if abs(p_value - p_value_manual) < 0.01:\n",
    "    print(\"Yes, the results match closely, confirming our statistical test.\")\n",
    "else:\n",
    "    print(\"The results differ somewhat, which might indicate an issue with our approach.\")"
   ]
  },
  {
   "attachments": {},
   "cell_type": "markdown",
   "metadata": {},
   "source": [
    "### Analysis:\n",
    "\n",
    "The analysis confirms that the new homepage design leads to a higher engagement rate, making it a worthwhile change to implement site-wide."
   ]
  },
  {
   "attachments": {},
   "cell_type": "markdown",
   "metadata": {},
   "source": [
    "## Summary\n",
    "\n",
    "In this lab, you continued to get more practice designing and conducting AB tests. This required additional work preprocessing and formulating the initial problem in a suitable manner. Additionally, you also saw how to verify results, strengthening your knowledge of binomial variables, and reviewing initial statistical concepts of the central limit theorem, standard deviation, z-scores, and their accompanying p-values."
   ]
  }
 ],
 "metadata": {
  "kernelspec": {
   "display_name": "Python 3 (ipykernel)",
   "language": "python",
   "name": "python3"
  },
  "language_info": {
   "codemirror_mode": {
    "name": "ipython",
    "version": 3
   },
   "file_extension": ".py",
   "mimetype": "text/x-python",
   "name": "python",
   "nbconvert_exporter": "python",
   "pygments_lexer": "ipython3",
   "version": "3.10.18"
  }
 },
 "nbformat": 4,
 "nbformat_minor": 4
}
